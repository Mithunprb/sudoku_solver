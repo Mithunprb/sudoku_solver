{
  "nbformat": 4,
  "nbformat_minor": 0,
  "metadata": {
    "colab": {
      "name": "sudoku_solver.ipynb",
      "provenance": [],
      "authorship_tag": "ABX9TyOFiLqcL5kbhF/9/OGs8VYs",
      "include_colab_link": true
    },
    "kernelspec": {
      "name": "python3",
      "display_name": "Python 3"
    },
    "language_info": {
      "name": "python"
    }
  },
  "cells": [
    {
      "cell_type": "markdown",
      "metadata": {
        "id": "view-in-github",
        "colab_type": "text"
      },
      "source": [
        "<a href=\"https://colab.research.google.com/github/Mithunprb/sudoku_solver/blob/main/sudoku_solver.ipynb\" target=\"_parent\"><img src=\"https://colab.research.google.com/assets/colab-badge.svg\" alt=\"Open In Colab\"/></a>"
      ]
    },
    {
      "cell_type": "markdown",
      "metadata": {
        "id": "Xv-qojDLBa4Q"
      },
      "source": [
        "# Sudoku Solver\n",
        "**Using Python** <br>\n",
        "grid is numpy matrix of 8x8 rows and columns<br>\n",
        "\n"
      ]
    },
    {
      "cell_type": "code",
      "metadata": {
        "id": "xzL_NRiV4rm6"
      },
      "source": [
        "grid = [[5,3,0,0,7,0,0,0,0],\n",
        "        [6,0,0,1,9,5,0,0,0],\n",
        "        [0,9,8,0,0,0,0,6,0],\n",
        "        [8,0,0,0,6,0,0,0,3],\n",
        "        [4,0,0,8,0,3,0,0,1],\n",
        "        [7,0,0,0,2,0,0,0,6],\n",
        "        [0,6,0,0,0,0,2,8,0],\n",
        "        [0,0,0,4,1,9,0,0,5],\n",
        "        [0,0,0,0,8,0,0,7,9]]"
      ],
      "execution_count": null,
      "outputs": []
    },
    {
      "cell_type": "code",
      "metadata": {
        "colab": {
          "base_uri": "https://localhost:8080/"
        },
        "id": "cBN1fgw_skwF",
        "outputId": "7d61bba5-04d7-4fb5-8f8c-def9b4c2152a"
      },
      "source": [
        "import numpy as np\n",
        "print(np.matrix(grid))"
      ],
      "execution_count": null,
      "outputs": [
        {
          "output_type": "stream",
          "text": [
            "[[5 3 0 0 7 0 0 0 0]\n",
            " [6 0 0 1 9 5 0 0 0]\n",
            " [0 9 8 0 0 0 0 6 0]\n",
            " [8 0 0 0 6 0 0 0 3]\n",
            " [4 0 0 8 0 3 0 0 1]\n",
            " [7 0 0 0 2 0 0 0 6]\n",
            " [0 6 0 0 0 0 2 8 0]\n",
            " [0 0 0 4 1 9 0 0 5]\n",
            " [0 0 0 0 8 0 0 7 9]]\n"
          ],
          "name": "stdout"
        }
      ]
    },
    {
      "cell_type": "code",
      "metadata": {
        "id": "37yTVt9P7APU"
      },
      "source": [
        "def possible(y, x, n):\n",
        "  global grid\n",
        "  for i in range(0, 9):\n",
        "    if grid[y][i] == n:\n",
        "      return False\n",
        "  for i in range(0, 9):\n",
        "    if grid[i][x] == n:\n",
        "      return False\n",
        "  x0 = (x//3) * 3\n",
        "  y0 = (y//3) * 3\n",
        "\n",
        "  for i in range(0, 3):\n",
        "    for j in range(0, 3):\n",
        "      if grid[y0+i][x0+j] == n:\n",
        "        return False\n",
        "      \n",
        "  return True"
      ],
      "execution_count": null,
      "outputs": []
    },
    {
      "cell_type": "code",
      "metadata": {
        "id": "ZeKTWQ3Z5-EK"
      },
      "source": [
        "def solve():\n",
        "  global grid\n",
        "  for y in range(9):\n",
        "    for x in range(9):\n",
        "      if grid[y][x] == 0:\n",
        "        for n in range(1, 10):\n",
        "          if possible(y, x, n):\n",
        "            grid[y][x] = n\n",
        "            solve()\n",
        "            grid[y][x] = 0\n",
        "        \n",
        "  yield np.matrix(grid)"
      ],
      "execution_count": null,
      "outputs": []
    },
    {
      "cell_type": "code",
      "metadata": {
        "id": "zb_DlPYk9KmU"
      },
      "source": [
        "ans = solve()"
      ],
      "execution_count": null,
      "outputs": []
    },
    {
      "cell_type": "code",
      "metadata": {
        "colab": {
          "base_uri": "https://localhost:8080/"
        },
        "id": "kzoqFHKlAxtH",
        "outputId": "499d8468-7857-4fe2-eb5a-9093459aa2ef"
      },
      "source": [
        "next(ans)"
      ],
      "execution_count": null,
      "outputs": [
        {
          "output_type": "execute_result",
          "data": {
            "text/plain": [
              "matrix([[5, 3, 1, 2, 7, 4, 8, 9, 0],\n",
              "        [6, 2, 4, 1, 9, 5, 3, 0, 7],\n",
              "        [0, 9, 8, 3, 0, 0, 1, 6, 2],\n",
              "        [8, 1, 2, 5, 6, 7, 4, 0, 3],\n",
              "        [4, 5, 6, 8, 0, 3, 7, 2, 1],\n",
              "        [7, 0, 3, 9, 2, 1, 5, 0, 6],\n",
              "        [1, 6, 5, 7, 3, 0, 2, 8, 4],\n",
              "        [2, 8, 7, 4, 1, 9, 0, 3, 5],\n",
              "        [3, 4, 0, 0, 8, 2, 6, 7, 9]])"
            ]
          },
          "metadata": {},
          "execution_count": 23
        }
      ]
    }
  ]
}